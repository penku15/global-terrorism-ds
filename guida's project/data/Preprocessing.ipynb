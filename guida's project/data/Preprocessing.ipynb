{
 "cells": [
  {
   "cell_type": "code",
   "execution_count": 5,
   "id": "1a801bba-79c2-431b-a748-db9fd8dacb59",
   "metadata": {},
   "outputs": [],
   "source": [
    "import pandas as pd\n",
    "import numpy as np\n",
    "import os\n",
    "import pyarrow"
   ]
  },
  {
   "cell_type": "code",
   "execution_count": 6,
   "id": "1b440af6-f7de-4723-be5e-f8d4d5c9a395",
   "metadata": {},
   "outputs": [
    {
     "data": {
      "text/plain": [
       "'raw/globalterrorismdb_0522dist.xlsx'"
      ]
     },
     "execution_count": 6,
     "metadata": {},
     "output_type": "execute_result"
    }
   ],
   "source": [
    "filename = \"globalterrorismdb_0522dist.xlsx\"\n",
    "path = os.path.join('raw', filename)\n",
    "assert os.path.exists(path), \"Non esiste o qualcosa è andato storto nel file\"\n",
    "path"
   ]
  },
  {
   "cell_type": "code",
   "execution_count": 7,
   "id": "c3361e4a-76fb-4fc0-9ac0-9e9c21c3a445",
   "metadata": {},
   "outputs": [],
   "source": [
    "# prima era csv, versione fino al 2017\n",
    "# questo è fino al 2020 con più accuratezza \n",
    "tr = pd.read_excel(path, sheet_name = \"Data\", engine='openpyxl')"
   ]
  },
  {
   "cell_type": "code",
   "execution_count": 8,
   "id": "edb2fb83-6de2-4ef1-9885-67a7d664cf7c",
   "metadata": {},
   "outputs": [],
   "source": [
    "tr = tr.rename(columns={\"iyear\": \"year\"})\n",
    "tr = tr.rename(columns={\"imonth\": \"month\"})\n",
    "tr = tr.rename(columns={\"iday\": \"day\"})\n",
    "tr = tr.rename(columns={\"country\": \"country_number\"})\n",
    "tr = tr.rename(columns={\"country_txt\": \"country_name\"})\n",
    "tr = tr.rename(columns={\"region\": \"region_number\"})\n",
    "tr = tr.rename(columns={\"region_txt\": \"region_name\"})"
   ]
  },
  {
   "cell_type": "code",
   "execution_count": 9,
   "id": "7bd5b1b9-6151-47ae-8d87-dd0360566625",
   "metadata": {},
   "outputs": [],
   "source": [
    "# eliminazione colonne inutili\n",
    "tr.drop(['eventid','approxdate','alternative_txt','attacktype2_txt','targtype2_txt','targsubtype2_txt','corp2','target2','natlty2_txt','targtype3_txt','targsubtype3_txt','corp3','target3','gsubname','gname2','claimmode_txt','compclaim','weaptype2_txt','weapsubtype2_txt','weaptype3_txt','weapsubtype3_txt','propcomment','kidhijcountry','hostkidoutcome_txt','related', 'INT_LOG','INT_IDEO','INT_MISC','INT_ANY','dbsource'], axis = 1, inplace = True)"
   ]
  },
  {
   "cell_type": "code",
   "execution_count": 10,
   "id": "b502ba08-9d9f-4876-ab6b-eab9cb73804c",
   "metadata": {},
   "outputs": [],
   "source": [
    "\n",
    "trit = tr[tr[\"country_name\"] == \"Italy\"]\n",
    "trus = tr[tr[\"country_name\"] == \"United States\"]\n",
    "tres = tr[tr[\"country_name\"] == \"Spain\"]\n",
    "truk = tr[tr[\"country_name\"] == \"United Kingdom\"]\n",
    "trfr = tr[tr[\"country_name\"] == \"France\"]"
   ]
  },
  {
   "cell_type": "code",
   "execution_count": 11,
   "id": "d839c0dc-58df-425e-aade-aeeb69c4bc92",
   "metadata": {},
   "outputs": [],
   "source": [
    "tr = pd.concat([trus,trit,tres,truk,trfr])"
   ]
  },
  {
   "cell_type": "code",
   "execution_count": 13,
   "id": "7852e4c6",
   "metadata": {},
   "outputs": [],
   "source": [
    "# Rinomina dati delle regioni italia\n",
    "tr[\"provstate\"] = tr[\"provstate\"].replace(\"Apulia\", \"Puglia\")\n",
    "tr[\"provstate\"] = tr[\"provstate\"].replace(\"Tuscany\", \"Toscana\")\n",
    "tr[\"provstate\"] = tr[\"provstate\"].replace(\"Piedmont\", \"Piemonte\")\n",
    "tr[\"provstate\"] = tr[\"provstate\"].replace(\"Aosta\", \"Valle d'Aosta/Vallée d'Aoste\")\n",
    "tr[\"provstate\"] = tr[\"provstate\"].replace(\"Lombardy\", \"Lombardia\")\n",
    "tr[\"provstate\"] = tr[\"provstate\"].replace(\"Sardinia\", \"Sardegna\")\n",
    "tr[\"provstate\"] = tr[\"provstate\"].replace(\"Trentino-South Tyrol\", \"Trentino-Alto Adige/Südtirol\")\n",
    "tr[\"provstate\"] = tr[\"provstate\"].replace(\"Sicily\", \"Sicilia\")\n",
    "tr[\"provstate\"] = tr[\"provstate\"].replace(\"Unknown\", \"Molise\").where(tr['country_name'] == 'Italy')"
   ]
  },
  {
   "cell_type": "code",
   "execution_count": 29,
   "id": "7bfa8564-433d-4a7b-a3b9-11410a2f3854",
   "metadata": {},
   "outputs": [],
   "source": [
    "filenameSave = \"attentati.parquet\"\n",
    "pathSave = os.path.abspath(os.path.join(filenameSave, os.pardir, 'parquet'))\n",
    "tr.to_parquet(os.path.join(pathSave, filenameSave))"
   ]
  }
 ],
 "metadata": {
  "kernelspec": {
   "display_name": "Python 3 (ipykernel)",
   "language": "python",
   "name": "python3"
  },
  "language_info": {
   "codemirror_mode": {
    "name": "ipython",
    "version": 3
   },
   "file_extension": ".py",
   "mimetype": "text/x-python",
   "name": "python",
   "nbconvert_exporter": "python",
   "pygments_lexer": "ipython3",
   "version": "3.12.2"
  }
 },
 "nbformat": 4,
 "nbformat_minor": 5
}
